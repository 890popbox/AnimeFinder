{
 "cells": [
  {
   "cell_type": "code",
   "execution_count": 14,
   "id": "e5f1e2de-ef95-465e-b920-2e4c5e9d4bd3",
   "metadata": {},
   "outputs": [],
   "source": [
    "import numpy as np # To perform linear algebra\n",
    "import pandas as pd # For data processing"
   ]
  },
  {
   "cell_type": "code",
   "execution_count": 15,
   "id": "ce051c89-b162-488b-b716-cb0693ea24f5",
   "metadata": {},
   "outputs": [],
   "source": [
    "anime_data = pd.read_csv(\"anime-dataset-2023.csv\")"
   ]
  },
  {
   "cell_type": "code",
   "execution_count": 16,
   "id": "fff3abfb-05e0-4dec-928d-e486af4aa60a",
   "metadata": {},
   "outputs": [
    {
     "data": {
      "text/html": [
       "<div>\n",
       "<style scoped>\n",
       "    .dataframe tbody tr th:only-of-type {\n",
       "        vertical-align: middle;\n",
       "    }\n",
       "\n",
       "    .dataframe tbody tr th {\n",
       "        vertical-align: top;\n",
       "    }\n",
       "\n",
       "    .dataframe thead th {\n",
       "        text-align: right;\n",
       "    }\n",
       "</style>\n",
       "<table border=\"1\" class=\"dataframe\">\n",
       "  <thead>\n",
       "    <tr style=\"text-align: right;\">\n",
       "      <th></th>\n",
       "      <th>anime_id</th>\n",
       "      <th>Name</th>\n",
       "      <th>English name</th>\n",
       "      <th>Other name</th>\n",
       "      <th>Score</th>\n",
       "      <th>Genres</th>\n",
       "      <th>Synopsis</th>\n",
       "      <th>Type</th>\n",
       "      <th>Episodes</th>\n",
       "      <th>Aired</th>\n",
       "      <th>Premiered</th>\n",
       "      <th>Status</th>\n",
       "      <th>Producers</th>\n",
       "      <th>Licensors</th>\n",
       "      <th>Studios</th>\n",
       "      <th>Source</th>\n",
       "      <th>Duration</th>\n",
       "      <th>Rating</th>\n",
       "      <th>Rank</th>\n",
       "      <th>Popularity</th>\n",
       "      <th>Favorites</th>\n",
       "      <th>Scored By</th>\n",
       "      <th>Members</th>\n",
       "      <th>Image URL</th>\n",
       "    </tr>\n",
       "  </thead>\n",
       "  <tbody>\n",
       "    <tr>\n",
       "      <th>0</th>\n",
       "      <td>1</td>\n",
       "      <td>Cowboy Bebop</td>\n",
       "      <td>Cowboy Bebop</td>\n",
       "      <td>カウボーイビバップ</td>\n",
       "      <td>8.75</td>\n",
       "      <td>Action, Award Winning, Sci-Fi</td>\n",
       "      <td>Crime is timeless. By the year 2071, humanity ...</td>\n",
       "      <td>TV</td>\n",
       "      <td>26</td>\n",
       "      <td>Apr 3, 1998 to Apr 24, 1999</td>\n",
       "      <td>spring 1998</td>\n",
       "      <td>Finished Airing</td>\n",
       "      <td>Bandai Visual</td>\n",
       "      <td>Funimation, Bandai Entertainment</td>\n",
       "      <td>Sunrise</td>\n",
       "      <td>Original</td>\n",
       "      <td>24 min per ep</td>\n",
       "      <td>R - 17+ (violence &amp; profanity)</td>\n",
       "      <td>41</td>\n",
       "      <td>43</td>\n",
       "      <td>78525</td>\n",
       "      <td>914193</td>\n",
       "      <td>1771505</td>\n",
       "      <td>https://cdn.myanimelist.net/images/anime/4/196...</td>\n",
       "    </tr>\n",
       "    <tr>\n",
       "      <th>1</th>\n",
       "      <td>5</td>\n",
       "      <td>Cowboy Bebop: Tengoku no Tobira</td>\n",
       "      <td>Cowboy Bebop: The Movie</td>\n",
       "      <td>カウボーイビバップ 天国の扉</td>\n",
       "      <td>8.38</td>\n",
       "      <td>Action, Sci-Fi</td>\n",
       "      <td>Another day, another bounty—such is the life o...</td>\n",
       "      <td>Movie</td>\n",
       "      <td>1</td>\n",
       "      <td>1-Sep-01</td>\n",
       "      <td>UNKNOWN</td>\n",
       "      <td>Finished Airing</td>\n",
       "      <td>Sunrise, Bandai Visual</td>\n",
       "      <td>Sony Pictures Entertainment</td>\n",
       "      <td>Bones</td>\n",
       "      <td>Original</td>\n",
       "      <td>1 hr 55 min</td>\n",
       "      <td>R - 17+ (violence &amp; profanity)</td>\n",
       "      <td>189</td>\n",
       "      <td>602</td>\n",
       "      <td>1448</td>\n",
       "      <td>206248</td>\n",
       "      <td>360978</td>\n",
       "      <td>https://cdn.myanimelist.net/images/anime/1439/...</td>\n",
       "    </tr>\n",
       "    <tr>\n",
       "      <th>2</th>\n",
       "      <td>6</td>\n",
       "      <td>Trigun</td>\n",
       "      <td>Trigun</td>\n",
       "      <td>トライガン</td>\n",
       "      <td>8.22</td>\n",
       "      <td>Action, Adventure, Sci-Fi</td>\n",
       "      <td>Vash the Stampede is the man with a $$60,000,0...</td>\n",
       "      <td>TV</td>\n",
       "      <td>26</td>\n",
       "      <td>Apr 1, 1998 to Sep 30, 1998</td>\n",
       "      <td>spring 1998</td>\n",
       "      <td>Finished Airing</td>\n",
       "      <td>Victor Entertainment</td>\n",
       "      <td>Funimation, Geneon Entertainment USA</td>\n",
       "      <td>Madhouse</td>\n",
       "      <td>Manga</td>\n",
       "      <td>24 min per ep</td>\n",
       "      <td>PG-13 - Teens 13 or older</td>\n",
       "      <td>328</td>\n",
       "      <td>246</td>\n",
       "      <td>15035</td>\n",
       "      <td>356739</td>\n",
       "      <td>727252</td>\n",
       "      <td>https://cdn.myanimelist.net/images/anime/7/203...</td>\n",
       "    </tr>\n",
       "  </tbody>\n",
       "</table>\n",
       "</div>"
      ],
      "text/plain": [
       "   anime_id                             Name             English name  ... Scored By  Members                                          Image URL\n",
       "0         1                     Cowboy Bebop             Cowboy Bebop  ...    914193  1771505  https://cdn.myanimelist.net/images/anime/4/196...\n",
       "1         5  Cowboy Bebop: Tengoku no Tobira  Cowboy Bebop: The Movie  ...    206248   360978  https://cdn.myanimelist.net/images/anime/1439/...\n",
       "2         6                           Trigun                   Trigun  ...    356739   727252  https://cdn.myanimelist.net/images/anime/7/203...\n",
       "\n",
       "[3 rows x 24 columns]"
      ]
     },
     "execution_count": 16,
     "metadata": {},
     "output_type": "execute_result"
    }
   ],
   "source": [
    "anime_data.head(3)"
   ]
  },
  {
   "cell_type": "code",
   "execution_count": 17,
   "id": "8aa6fb8a-6d66-4189-9a31-a38ccc70d77d",
   "metadata": {},
   "outputs": [
    {
     "data": {
      "text/plain": [
       "Index(['anime_id', 'Name', 'English name', 'Other name', 'Score', 'Genres',\n",
       "       'Synopsis', 'Type', 'Episodes', 'Aired', 'Premiered', 'Status',\n",
       "       'Producers', 'Licensors', 'Studios', 'Source', 'Duration', 'Rating',\n",
       "       'Rank', 'Popularity', 'Favorites', 'Scored By', 'Members', 'Image URL'],\n",
       "      dtype='object')"
      ]
     },
     "execution_count": 17,
     "metadata": {},
     "output_type": "execute_result"
    }
   ],
   "source": [
    "anime_data.columns"
   ]
  },
  {
   "cell_type": "code",
   "execution_count": 18,
   "id": "2fc5e366-fd9f-4505-8e49-1e1b004b4bd9",
   "metadata": {},
   "outputs": [],
   "source": [
    "import re\n",
    "def text_cleaning(text):\n",
    "    text = re.sub(r'&quot;', '', text)\n",
    "    text = re.sub(r'.hack//', '', text)\n",
    "    text = re.sub(r'&#039;', '', text)\n",
    "    text = re.sub(r'A&#039;s', '', text)\n",
    "    text = re.sub(r'I&#039;', 'I\\'', text)\n",
    "    text = re.sub(r'&amp;', 'and', text)\n",
    "    return text\n",
    "\n",
    "anime_data['Name'] = anime_data['Name'].apply(text_cleaning)\n",
    "anime_data['English name'] = anime_data['English name'].apply(text_cleaning)"
   ]
  },
  {
   "cell_type": "code",
   "execution_count": 19,
   "id": "8cd51db5-e72d-470a-87a6-ef81a5cb61a0",
   "metadata": {},
   "outputs": [
    {
     "name": "stdout",
     "output_type": "stream",
     "text": [
      "0        ['Cowboy Bebop']['Sunrise']['Action', ' Award ...\n",
      "1        ['Cowboy Bebop: Tengoku no Tobira']['Bones']['...\n",
      "2        ['Trigun']['Madhouse']['Action', ' Adventure',...\n",
      "3        ['Witch Hunter Robin']['Sunrise']['Action', ' ...\n",
      "4        ['Bouken Ou Beet']['Toei Animation']['Adventur...\n",
      "                               ...                        \n",
      "24900    ['Wu Nao Monu']['UNKNOWN']['Comedy', ' Fantasy...\n",
      "24901    ['Bu Xing Si: Yuan Qi']['UNKNOWN']['Action', '...\n",
      "24902    ['Di Yi Xulie']['UNKNOWN']['Action', ' Adventu...\n",
      "24903    ['Bokura no Saishuu Sensou']['UNKNOWN']['UNKNO...\n",
      "24904             ['Shijuuku Nichi']['UNKNOWN']['UNKNOWN']\n",
      "Length: 24905, dtype: object\n"
     ]
    }
   ],
   "source": [
    "from sklearn.feature_extraction.text import TfidfVectorizer\n",
    "\n",
    "#getting tfidf\n",
    "tfv = TfidfVectorizer(min_df=3,  max_features=None, \n",
    "            strip_accents='unicode', analyzer='word',token_pattern=r'\\w{1,}',\n",
    "            ngram_range=(1, 3),\n",
    "            stop_words = 'english')\n",
    "\n",
    "# Filling NaNs with empty string\n",
    "anime_data['Genres'] = anime_data['Genres'].fillna('')\n",
    "\n",
    "genres_str = anime_data['Genres'].str.split(',').astype(str) \n",
    "studios_str = anime_data['Studios'].str.split(',').astype(str) \n",
    "name_str = anime_data['Name'].str.split(',').astype(str)\n",
    "total = name_str + studios_str + genres_str\n",
    "print(total)\n",
    "tfv_matrix = tfv.fit_transform(total)"
   ]
  },
  {
   "cell_type": "code",
   "execution_count": 7,
   "id": "4a4e78a8-3e0a-4549-b94d-e996594845a4",
   "metadata": {},
   "outputs": [],
   "source": [
    "from sklearn.metrics.pairwise import sigmoid_kernel\n",
    "\n",
    "# Compute the sigmoid kernel\n",
    "sig = sigmoid_kernel(tfv_matrix, tfv_matrix)\n",
    "\n",
    "#getting the indices of anime title\n",
    "indices = pd.Series(anime_data.index, index=anime_data['Name']).drop_duplicates()"
   ]
  },
  {
   "cell_type": "code",
   "execution_count": 8,
   "id": "a7bd60e2-ae80-471f-ac01-dff6a94e62f7",
   "metadata": {},
   "outputs": [],
   "source": [
    "def recommend(title, sig=sig):\n",
    "    # Get the index corresponding to original_title\n",
    "    idx = indices[title]\n",
    "\n",
    "    # Get the pairwsie similarity scores \n",
    "    sig_scores = list(enumerate(sig[idx]))\n",
    "\n",
    "    # Sort the movies \n",
    "    sig_scores = sorted(sig_scores, key=lambda x: x[1], reverse=True)\n",
    "\n",
    "    # Scores of the 10 most similar movies\n",
    "    sig_scores = sig_scores[1:11]\n",
    "\n",
    "    # Movie indices\n",
    "    anime_indices = [i[0] for i in sig_scores]\n",
    "    \n",
    "    for i in anime_indices[0:10]:\n",
    "        print(anime_data.iloc[i].Name)\n"
   ]
  },
  {
   "cell_type": "code",
   "execution_count": 9,
   "id": "f423e8c0-8fae-4690-b736-1ce3ed2a7cd0",
   "metadata": {},
   "outputs": [
    {
     "name": "stdout",
     "output_type": "stream",
     "text": [
      "Death Note: Rewrite\n",
      "Death Billiards\n",
      "Death Parade\n",
      "Mouryou no Hako\n",
      "Mousou Dairinin\n",
      "Mouryou no Hako: Chuuzenji Atsuko no Jikenbo - Hako no Yurei no Koto\n",
      "Gyakkyou Burai Kaiji: Hakairoku-hen\n",
      "Tesla Note\n",
      "Rainbow: Nisha Rokubou no Shichinin\n",
      "Aoi Bungaku Series\n",
      "---\n"
     ]
    }
   ],
   "source": [
    "recommend('Death Note') # Need to apply popularity factors to this model\\\n",
    "print('---')"
   ]
  },
  {
   "cell_type": "code",
   "execution_count": 10,
   "id": "cc7fc65e-3c92-4cbe-b9a5-2cac17ff0cab",
   "metadata": {},
   "outputs": [
    {
     "name": "stdout",
     "output_type": "stream",
     "text": [
      "Tokyo Ghoul √A\n",
      "Tokyo Ghoul: \"Pinto\"\n",
      "Tokyo Ghoul:re\n",
      "Tokyo Ghoul: \"Jack\"\n",
      "Tokyo Ghoul:re 2nd Season\n",
      "Neo Ranga\n",
      "Kyoufu Shinbun\n",
      "3x3 Eyes\n",
      "Ayakashi\n",
      "Youma\n",
      "---\n"
     ]
    }
   ],
   "source": [
    "recommend('Tokyo Ghoul') # Need to apply popularity factors to this model\\\n",
    "print('---')"
   ]
  },
  {
   "cell_type": "code",
   "execution_count": 11,
   "id": "167c98a4-1e3f-4381-8e49-82880a9efecb",
   "metadata": {},
   "outputs": [
    {
     "name": "stdout",
     "output_type": "stream",
     "text": [
      "Shingeki no Kyojin Season 2\n",
      "Shingeki no Kyojin: Kuinaki Sentaku\n",
      "Shingeki no Kyojin OVA\n",
      "Shingeki no Kyojin: Chronicle\n",
      "Shingeki no Kyojin: Lost Girls\n",
      "Shingeki no Kyojin Movie 2: Jiyuu no Tsubasa\n",
      "Shingeki no Kyojin Movie 1: Guren no Yumiya\n",
      "Shingeki no Kyojin: Ano Hi Kara\n",
      "Jinyu\n",
      "Mida\n",
      "---\n"
     ]
    }
   ],
   "source": [
    "recommend('Shingeki no Kyojin') # Need to apply popularity factors to this model\\\n",
    "print('---')"
   ]
  },
  {
   "cell_type": "code",
   "execution_count": 12,
   "id": "2388d220-f892-480e-b8c7-d1697c353972",
   "metadata": {},
   "outputs": [
    {
     "name": "stdout",
     "output_type": "stream",
     "text": [
      "Hadakanbou\n",
      "Taisei Kensetsu CMs\n",
      "Kotonoha no Niwa\n",
      "Tenki no Ko\n",
      "Hoshi no Koe\n",
      "Makasete Iruka!\n",
      "Kumo no Mukou, Yakusoku no Basho\n",
      "Hanare Toride no Yonna\n",
      "Sarusuberi: Miss Hokusai\n",
      "Shisha no Sho\n",
      "---\n"
     ]
    }
   ],
   "source": [
    "recommend('Kimi no Na wa.') # Need to apply popularity factors to this model\\\n",
    "print('---')"
   ]
  },
  {
   "cell_type": "code",
   "execution_count": 13,
   "id": "4c9c7165-13f8-49ff-b74e-80a6b63b6fb3",
   "metadata": {},
   "outputs": [],
   "source": [
    "import pickle\n",
    "pickle.dump(anime_data, open('anime_list.pkl','wb'))\n",
    "pickle.dump(tfv_matrix, open('matrix.pkl','wb'))"
   ]
  },
  {
   "cell_type": "code",
   "execution_count": null,
   "id": "bb14f3e8-5889-43da-b423-a100f75098e7",
   "metadata": {},
   "outputs": [],
   "source": []
  }
 ],
 "metadata": {
  "kernelspec": {
   "display_name": "Python 3 (ipykernel)",
   "language": "python",
   "name": "python3"
  },
  "language_info": {
   "codemirror_mode": {
    "name": "ipython",
    "version": 3
   },
   "file_extension": ".py",
   "mimetype": "text/x-python",
   "name": "python",
   "nbconvert_exporter": "python",
   "pygments_lexer": "ipython3",
   "version": "3.8.0"
  }
 },
 "nbformat": 4,
 "nbformat_minor": 5
}
