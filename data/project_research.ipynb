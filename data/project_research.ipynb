{
 "cells": [
  {
   "cell_type": "code",
   "execution_count": 1,
   "id": "d261605b-e758-4028-9c15-cdd3db49e549",
   "metadata": {},
   "outputs": [],
   "source": [
    "import numpy as np # To perform linear algebra\n",
    "import pandas as pd # For data processing"
   ]
  },
  {
   "cell_type": "code",
   "execution_count": 2,
   "id": "d72faea9-da92-4d67-8e73-2a9895aa9303",
   "metadata": {},
   "outputs": [],
   "source": [
    "animes = pd.read_csv(\"anime-dataset-2023.csv\")"
   ]
  },
  {
   "cell_type": "code",
   "execution_count": 3,
   "id": "87ccf3e7-0f1b-4a55-8a0b-f51772725a72",
   "metadata": {},
   "outputs": [
    {
     "data": {
      "text/html": [
       "<div>\n",
       "<style scoped>\n",
       "    .dataframe tbody tr th:only-of-type {\n",
       "        vertical-align: middle;\n",
       "    }\n",
       "\n",
       "    .dataframe tbody tr th {\n",
       "        vertical-align: top;\n",
       "    }\n",
       "\n",
       "    .dataframe thead th {\n",
       "        text-align: right;\n",
       "    }\n",
       "</style>\n",
       "<table border=\"1\" class=\"dataframe\">\n",
       "  <thead>\n",
       "    <tr style=\"text-align: right;\">\n",
       "      <th></th>\n",
       "      <th>anime_id</th>\n",
       "      <th>Name</th>\n",
       "      <th>English name</th>\n",
       "      <th>Other name</th>\n",
       "      <th>Score</th>\n",
       "      <th>Genres</th>\n",
       "      <th>Synopsis</th>\n",
       "      <th>Type</th>\n",
       "      <th>Episodes</th>\n",
       "      <th>Aired</th>\n",
       "      <th>Premiered</th>\n",
       "      <th>Status</th>\n",
       "      <th>Producers</th>\n",
       "      <th>Licensors</th>\n",
       "      <th>Studios</th>\n",
       "      <th>Source</th>\n",
       "      <th>Duration</th>\n",
       "      <th>Rating</th>\n",
       "      <th>Rank</th>\n",
       "      <th>Popularity</th>\n",
       "      <th>Favorites</th>\n",
       "      <th>Scored By</th>\n",
       "      <th>Members</th>\n",
       "      <th>Image URL</th>\n",
       "    </tr>\n",
       "  </thead>\n",
       "  <tbody>\n",
       "    <tr>\n",
       "      <th>0</th>\n",
       "      <td>1</td>\n",
       "      <td>Cowboy Bebop</td>\n",
       "      <td>Cowboy Bebop</td>\n",
       "      <td>カウボーイビバップ</td>\n",
       "      <td>8.75</td>\n",
       "      <td>Action, Award Winning, Sci-Fi</td>\n",
       "      <td>Crime is timeless. By the year 2071, humanity ...</td>\n",
       "      <td>TV</td>\n",
       "      <td>26</td>\n",
       "      <td>Apr 3, 1998 to Apr 24, 1999</td>\n",
       "      <td>spring 1998</td>\n",
       "      <td>Finished Airing</td>\n",
       "      <td>Bandai Visual</td>\n",
       "      <td>Funimation, Bandai Entertainment</td>\n",
       "      <td>Sunrise</td>\n",
       "      <td>Original</td>\n",
       "      <td>24 min per ep</td>\n",
       "      <td>R - 17+ (violence &amp; profanity)</td>\n",
       "      <td>41</td>\n",
       "      <td>43</td>\n",
       "      <td>78525</td>\n",
       "      <td>914193</td>\n",
       "      <td>1771505</td>\n",
       "      <td>https://cdn.myanimelist.net/images/anime/4/196...</td>\n",
       "    </tr>\n",
       "    <tr>\n",
       "      <th>1</th>\n",
       "      <td>5</td>\n",
       "      <td>Cowboy Bebop: Tengoku no Tobira</td>\n",
       "      <td>Cowboy Bebop: The Movie</td>\n",
       "      <td>カウボーイビバップ 天国の扉</td>\n",
       "      <td>8.38</td>\n",
       "      <td>Action, Sci-Fi</td>\n",
       "      <td>Another day, another bounty—such is the life o...</td>\n",
       "      <td>Movie</td>\n",
       "      <td>1</td>\n",
       "      <td>1-Sep-01</td>\n",
       "      <td>UNKNOWN</td>\n",
       "      <td>Finished Airing</td>\n",
       "      <td>Sunrise, Bandai Visual</td>\n",
       "      <td>Sony Pictures Entertainment</td>\n",
       "      <td>Bones</td>\n",
       "      <td>Original</td>\n",
       "      <td>1 hr 55 min</td>\n",
       "      <td>R - 17+ (violence &amp; profanity)</td>\n",
       "      <td>189</td>\n",
       "      <td>602</td>\n",
       "      <td>1448</td>\n",
       "      <td>206248</td>\n",
       "      <td>360978</td>\n",
       "      <td>https://cdn.myanimelist.net/images/anime/1439/...</td>\n",
       "    </tr>\n",
       "    <tr>\n",
       "      <th>2</th>\n",
       "      <td>6</td>\n",
       "      <td>Trigun</td>\n",
       "      <td>Trigun</td>\n",
       "      <td>トライガン</td>\n",
       "      <td>8.22</td>\n",
       "      <td>Action, Adventure, Sci-Fi</td>\n",
       "      <td>Vash the Stampede is the man with a $$60,000,0...</td>\n",
       "      <td>TV</td>\n",
       "      <td>26</td>\n",
       "      <td>Apr 1, 1998 to Sep 30, 1998</td>\n",
       "      <td>spring 1998</td>\n",
       "      <td>Finished Airing</td>\n",
       "      <td>Victor Entertainment</td>\n",
       "      <td>Funimation, Geneon Entertainment USA</td>\n",
       "      <td>Madhouse</td>\n",
       "      <td>Manga</td>\n",
       "      <td>24 min per ep</td>\n",
       "      <td>PG-13 - Teens 13 or older</td>\n",
       "      <td>328</td>\n",
       "      <td>246</td>\n",
       "      <td>15035</td>\n",
       "      <td>356739</td>\n",
       "      <td>727252</td>\n",
       "      <td>https://cdn.myanimelist.net/images/anime/7/203...</td>\n",
       "    </tr>\n",
       "  </tbody>\n",
       "</table>\n",
       "</div>"
      ],
      "text/plain": [
       "   anime_id                             Name             English name  ... Scored By  Members                                          Image URL\n",
       "0         1                     Cowboy Bebop             Cowboy Bebop  ...    914193  1771505  https://cdn.myanimelist.net/images/anime/4/196...\n",
       "1         5  Cowboy Bebop: Tengoku no Tobira  Cowboy Bebop: The Movie  ...    206248   360978  https://cdn.myanimelist.net/images/anime/1439/...\n",
       "2         6                           Trigun                   Trigun  ...    356739   727252  https://cdn.myanimelist.net/images/anime/7/203...\n",
       "\n",
       "[3 rows x 24 columns]"
      ]
     },
     "execution_count": 3,
     "metadata": {},
     "output_type": "execute_result"
    }
   ],
   "source": [
    "animes.head(3)"
   ]
  },
  {
   "cell_type": "code",
   "execution_count": 4,
   "id": "36b0733d-4876-4c3c-b870-c5d086af6916",
   "metadata": {},
   "outputs": [
    {
     "data": {
      "text/plain": [
       "Index(['anime_id', 'Name', 'English name', 'Other name', 'Score', 'Genres',\n",
       "       'Synopsis', 'Type', 'Episodes', 'Aired', 'Premiered', 'Status',\n",
       "       'Producers', 'Licensors', 'Studios', 'Source', 'Duration', 'Rating',\n",
       "       'Rank', 'Popularity', 'Favorites', 'Scored By', 'Members', 'Image URL'],\n",
       "      dtype='object')"
      ]
     },
     "execution_count": 4,
     "metadata": {},
     "output_type": "execute_result"
    }
   ],
   "source": [
    "animes.columns"
   ]
  },
  {
   "cell_type": "code",
   "execution_count": 5,
   "id": "79257bfb-59b7-4db0-b39f-66191796203a",
   "metadata": {},
   "outputs": [],
   "source": [
    "animes=animes[['anime_id', 'Name', 'English name', 'Score', 'Genres', 'Synopsis', 'Type', 'Studios', 'Source']]"
   ]
  },
  {
   "cell_type": "code",
   "execution_count": 6,
   "id": "4579d7ea-47bd-4dcd-9092-c9297bf0ba45",
   "metadata": {},
   "outputs": [],
   "source": [
    "from sklearn.feature_extraction.text import CountVectorizer\n",
    "from sklearn.metrics.pairwise import cosine_similarity\n",
    "\n",
    "cv = CountVectorizer(max_features=5000,stop_words='english') # Create a vector to be used for cosine similarity"
   ]
  },
  {
   "cell_type": "code",
   "execution_count": 21,
   "id": "720d828c-4c23-47be-b054-1aded0baa734",
   "metadata": {},
   "outputs": [
    {
     "data": {
      "text/plain": [
       "0               Action, Award Winning, Sci-Fi\n",
       "1                              Action, Sci-Fi\n",
       "2                   Action, Adventure, Sci-Fi\n",
       "3        Action, Drama, Mystery, Supernatural\n",
       "4            Adventure, Fantasy, Supernatural\n",
       "                         ...                 \n",
       "24900          Comedy, Fantasy, Slice of Life\n",
       "24901              Action, Adventure, Fantasy\n",
       "24902      Action, Adventure, Fantasy, Sci-Fi\n",
       "24903                                 UNKNOWN\n",
       "24904                                 UNKNOWN\n",
       "Name: tags, Length: 24905, dtype: object"
      ]
     },
     "execution_count": 21,
     "metadata": {},
     "output_type": "execute_result"
    }
   ],
   "source": [
    "#new = pd.concat([animes['anime_id'], animes['Name'], animes['Genres'].str.get_dummies(sep=','), animes['Type'].str.get_dummies(sep=','), animes['Source'].str.get_dummies(sep=',')], axis=1)\n",
    "#anime_features = new.loc[:, \"Adventure\":].copy()\n",
    "new = animes.drop(columns=['Score'])\n",
    "new['tags'] = new['Genres']\n",
    "new['tags']"
   ]
  },
  {
   "cell_type": "code",
   "execution_count": 22,
   "id": "58551b09-70ee-448e-9564-7ea78d9c5a36",
   "metadata": {},
   "outputs": [],
   "source": [
    "vector = cv.fit_transform(new['tags']).toarray() # Transform the tags to be used as a vector\n",
    "similarity = cosine_similarity(vector)"
   ]
  },
  {
   "cell_type": "code",
   "execution_count": 23,
   "id": "b9936f3f-805f-44b4-b8ee-bb1388378cd0",
   "metadata": {},
   "outputs": [],
   "source": [
    "def recommend(anime):\n",
    "    index = new[new['Name'] == anime].index[0]\n",
    "    distances = sorted(list(enumerate(similarity[index])),reverse=True,key = lambda x: x[1])\n",
    "    for i in distances[1:10]:\n",
    "        print(i)\n",
    "        print(new.iloc[i[0]].Name)\n"
   ]
  },
  {
   "cell_type": "code",
   "execution_count": 24,
   "id": "e7c4d63f-6f51-4f69-99da-b2b01460404d",
   "metadata": {},
   "outputs": [
    {
     "name": "stdout",
     "output_type": "stream",
     "text": [
      "(2722, 0.9999999999999998)\n",
      "Death Note: Rewrite\n",
      "(12808, 0.9999999999999998)\n",
      "Warau Salesman Special Program\n",
      "(16682, 0.9999999999999998)\n",
      "Munou na Nana\n",
      "(1317, 0.816496580927726)\n",
      "Shuranosuke Zanmaken: Shikamamon no Otoko\n",
      "(1720, 0.816496580927726)\n",
      "Higurashi no Naku Koro ni Kai\n",
      "(2382, 0.816496580927726)\n",
      "Shinreigari\n",
      "(3189, 0.816496580927726)\n",
      "Higurashi no Naku Koro ni Rei\n",
      "(3785, 0.816496580927726)\n",
      "Ga-Rei: Zero\n",
      "(3858, 0.816496580927726)\n",
      "Mouryou no Hako\n",
      "---\n"
     ]
    }
   ],
   "source": [
    "recommend('Death Note') # Need to apply popularity factors to this model\\\n",
    "print('---')"
   ]
  },
  {
   "cell_type": "code",
   "execution_count": 25,
   "id": "b199000c-0f41-4377-930a-2b78df9b150d",
   "metadata": {},
   "outputs": [
    {
     "name": "stdout",
     "output_type": "stream",
     "text": [
      "(9632, 1.0000000000000002)\n",
      "Tokyo Ghoul √A\n",
      "(10513, 1.0000000000000002)\n",
      "Tokyo Ghoul: \"Jack\"\n",
      "(10849, 1.0000000000000002)\n",
      "Tokyo Ghoul: \"Pinto\"\n",
      "(13588, 1.0000000000000002)\n",
      "Tokyo Ghoul:re\n",
      "(14405, 1.0000000000000002)\n",
      "Tokyo Ghoul:re 2nd Season\n",
      "(15849, 1.0000000000000002)\n",
      "Gibiate\n",
      "(276, 0.8660254037844388)\n",
      "3x3 Eyes\n",
      "(1346, 0.8660254037844388)\n",
      "Youma\n",
      "(5234, 0.8660254037844388)\n",
      "Gegege no Kitarou: Nippon Bakuretsu\n",
      "---\n"
     ]
    }
   ],
   "source": [
    "recommend('Tokyo Ghoul') # Need to apply popularity factors to this model\\\n",
    "print('---')"
   ]
  },
  {
   "cell_type": "code",
   "execution_count": 27,
   "id": "16661a9f-cef2-4fda-82e1-f04708e1278e",
   "metadata": {},
   "outputs": [
    {
     "name": "stdout",
     "output_type": "stream",
     "text": [
      "(2469, 0.8944271909999159)\n",
      "Hidamari no Ki\n",
      "(4135, 0.8944271909999159)\n",
      "Birthday Boy\n",
      "(5873, 0.8944271909999159)\n",
      "Mahou Shoujo Madoka★Magica\n",
      "(22594, 0.8944271909999159)\n",
      "Jinyu\n",
      "(24089, 0.8944271909999159)\n",
      "Mida\n",
      "(980, 0.8451542547285164)\n",
      "Sentou Yousei Yukikaze\n",
      "(3271, 0.8451542547285164)\n",
      "Evangelion: 3.0+1.0 Thrice Upon a Time\n",
      "(6645, 0.7999999999999999)\n",
      "Mahou Shoujo Madoka★Magica Movie 3: Hangyaku no Monogatari\n",
      "(13193, 0.7999999999999999)\n",
      "Detective Conan Movie 22: Zero the Enforcer\n",
      "---\n"
     ]
    }
   ],
   "source": [
    "recommend('Shingeki no Kyojin') # Need to apply popularity factors to this model\\\n",
    "print('---')"
   ]
  },
  {
   "cell_type": "code",
   "execution_count": 26,
   "id": "cd212174-2d5f-45a0-83f5-3a3bf6ac2ad4",
   "metadata": {},
   "outputs": [],
   "source": [
    "import pickle\n",
    "pickle.dump(new, open('anime_list.pkl','wb'))\n",
    "pickle.dump(similarity,open('similarity.pkl','wb'))"
   ]
  },
  {
   "cell_type": "code",
   "execution_count": null,
   "id": "642d1ca2-7e00-4cf9-8641-7678778ad6f9",
   "metadata": {},
   "outputs": [],
   "source": []
  }
 ],
 "metadata": {
  "kernelspec": {
   "display_name": "Python 3 (ipykernel)",
   "language": "python",
   "name": "python3"
  },
  "language_info": {
   "codemirror_mode": {
    "name": "ipython",
    "version": 3
   },
   "file_extension": ".py",
   "mimetype": "text/x-python",
   "name": "python",
   "nbconvert_exporter": "python",
   "pygments_lexer": "ipython3",
   "version": "3.8.0"
  }
 },
 "nbformat": 4,
 "nbformat_minor": 5
}
