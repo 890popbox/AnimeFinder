{
 "cells": [
  {
   "cell_type": "code",
   "execution_count": 1,
   "id": "d261605b-e758-4028-9c15-cdd3db49e549",
   "metadata": {},
   "outputs": [],
   "source": [
    "import pandas as pd # For data processing"
   ]
  },
  {
   "cell_type": "code",
   "execution_count": 2,
   "id": "d72faea9-da92-4d67-8e73-2a9895aa9303",
   "metadata": {},
   "outputs": [],
   "source": [
    "animes = pd.read_csv(\"anime-dataset-2023.csv\")"
   ]
  },
  {
   "cell_type": "code",
   "execution_count": 3,
   "id": "36b0733d-4876-4c3c-b870-c5d086af6916",
   "metadata": {},
   "outputs": [
    {
     "data": {
      "text/plain": [
       "Index(['anime_id', 'Name', 'English name', 'Other name', 'Score', 'Genres',\n",
       "       'Synopsis', 'Type', 'Episodes', 'Aired', 'Premiered', 'Status',\n",
       "       'Producers', 'Licensors', 'Studios', 'Source', 'Duration', 'Rating',\n",
       "       'Rank', 'Popularity', 'Favorites', 'Scored By', 'Members', 'Image URL'],\n",
       "      dtype='object')"
      ]
     },
     "execution_count": 3,
     "metadata": {},
     "output_type": "execute_result"
    }
   ],
   "source": [
    "animes.columns"
   ]
  },
  {
   "cell_type": "code",
   "execution_count": 4,
   "id": "79257bfb-59b7-4db0-b39f-66191796203a",
   "metadata": {},
   "outputs": [],
   "source": [
    "animes=animes[['anime_id', 'Name', 'English name', 'Score', 'Genres', 'Synopsis', 'Type', 'Studios', 'Source']]"
   ]
  },
  {
   "cell_type": "code",
   "execution_count": 5,
   "id": "4579d7ea-47bd-4dcd-9092-c9297bf0ba45",
   "metadata": {},
   "outputs": [],
   "source": [
    "from sklearn.feature_extraction.text import CountVectorizer\n",
    "from sklearn.metrics.pairwise import cosine_similarity\n",
    "\n",
    "cv = CountVectorizer(max_features=5000, stop_words='english') # Create a vector to be used for cosine similarity"
   ]
  },
  {
   "cell_type": "code",
   "execution_count": 6,
   "id": "720d828c-4c23-47be-b054-1aded0baa734",
   "metadata": {},
   "outputs": [
    {
     "data": {
      "text/plain": [
       "0        Cowboy Bebop Action, Award Winning, Sci-Fi Sun...\n",
       "1        Cowboy Bebop: Tengoku no Tobira Action, Sci-Fi...\n",
       "2                Trigun Action, Adventure, Sci-Fi Madhouse\n",
       "3        Witch Hunter Robin Action, Drama, Mystery, Sup...\n",
       "4        Bouken Ou Beet Adventure, Fantasy, Supernatura...\n",
       "                               ...                        \n",
       "24900    Wu Nao Monu Comedy, Fantasy, Slice of Life UNK...\n",
       "24901    Bu Xing Si: Yuan Qi Action, Adventure, Fantasy...\n",
       "24902    Di Yi Xulie Action, Adventure, Fantasy, Sci-Fi...\n",
       "24903             Bokura no Saishuu Sensou UNKNOWN UNKNOWN\n",
       "24904                       Shijuuku Nichi UNKNOWN UNKNOWN\n",
       "Name: tags, Length: 24905, dtype: object"
      ]
     },
     "execution_count": 6,
     "metadata": {},
     "output_type": "execute_result"
    }
   ],
   "source": [
    "new = animes.drop(columns=['Score'])\n",
    "new['tags'] =  new['Name'] + ' ' + new['Genres']  + ' ' + new['Studios']\n",
    "new['tags']"
   ]
  },
  {
   "cell_type": "code",
   "execution_count": 7,
   "id": "cf89a4e7-68bc-4f33-b8e7-04a2e440caa8",
   "metadata": {},
   "outputs": [],
   "source": [
    "vector = cv.fit_transform(new['tags']).toarray() # Transform the tags to be used as a vector\n",
    "similarity = cosine_similarity(vector)"
   ]
  },
  {
   "cell_type": "code",
   "execution_count": 8,
   "id": "b9936f3f-805f-44b4-b8ee-bb1388378cd0",
   "metadata": {},
   "outputs": [],
   "source": [
    "def recommend(anime):\n",
    "    index = new[new['Name'] == anime].index[0]\n",
    "    distances = sorted(list(enumerate(similarity[index])),reverse=True,key = lambda x: x[1])\n",
    "    for i in distances[1:10]:\n",
    "        print(i)\n",
    "        print(new.iloc[i[0]].Name)\n",
    "    \n"
   ]
  },
  {
   "cell_type": "code",
   "execution_count": 9,
   "id": "e7c4d63f-6f51-4f69-99da-b2b01460404d",
   "metadata": {},
   "outputs": [
    {
     "name": "stdout",
     "output_type": "stream",
     "text": [
      "(2722, 0.912870929175277)\n",
      "Death Note: Rewrite\n",
      "(7106, 0.7999999999999999)\n",
      "Death Billiards\n",
      "(9710, 0.7302967433402215)\n",
      "Death Parade\n",
      "(3858, 0.5477225575051662)\n",
      "Mouryou no Hako\n",
      "(2728, 0.5163977794943223)\n",
      "Gyakkyou Burai Kaiji: Ultimate Survivor\n",
      "(6124, 0.5163977794943223)\n",
      "Gyakkyou Burai Kaiji: Hakairoku-hen\n",
      "(21008, 0.5163977794943223)\n",
      "Tesla Note\n",
      "(299, 0.47434164902525683)\n",
      "Mousou Dairinin\n",
      "(5583, 0.47434164902525683)\n",
      "Supernatural The Animation\n",
      "---\n"
     ]
    }
   ],
   "source": [
    "recommend('Death Note') # (animes_id, similarity %), name\n",
    "print('---')"
   ]
  },
  {
   "cell_type": "code",
   "execution_count": 10,
   "id": "b199000c-0f41-4377-930a-2b78df9b150d",
   "metadata": {},
   "outputs": [
    {
     "name": "stdout",
     "output_type": "stream",
     "text": [
      "(9632, 1.0000000000000002)\n",
      "Tokyo Ghoul √A\n",
      "(10849, 1.0000000000000002)\n",
      "Tokyo Ghoul: \"Pinto\"\n",
      "(13588, 1.0000000000000002)\n",
      "Tokyo Ghoul:re\n",
      "(10513, 0.9258200997725515)\n",
      "Tokyo Ghoul: \"Jack\"\n",
      "(14405, 0.8660254037844387)\n",
      "Tokyo Ghoul:re 2nd Season\n",
      "(6038, 0.6123724356957946)\n",
      "Naruto x UT\n",
      "(2850, 0.5773502691896258)\n",
      "Ayakashi\n",
      "(10, 0.5477225575051662)\n",
      "Naruto\n",
      "(131, 0.5477225575051662)\n",
      "Juuni Kokuki\n",
      "---\n"
     ]
    }
   ],
   "source": [
    "recommend('Tokyo Ghoul') # (animes_id, similarity %), name\n",
    "print('---')"
   ]
  },
  {
   "cell_type": "code",
   "execution_count": 11,
   "id": "16661a9f-cef2-4fda-82e1-f04708e1278e",
   "metadata": {},
   "outputs": [
    {
     "name": "stdout",
     "output_type": "stream",
     "text": [
      "(9352, 0.8249579113843054)\n",
      "Shingeki no Kyojin Season 2\n",
      "(7857, 0.7559289460184543)\n",
      "Shingeki no Kyojin OVA\n",
      "(13176, 0.7559289460184543)\n",
      "Shingeki no Kyojin Season 3\n",
      "(14865, 0.7559289460184543)\n",
      "Shingeki no Kyojin Season 3 Part 2\n",
      "(16827, 0.7559289460184543)\n",
      "Shingeki no Kyojin: Chronicle\n",
      "(8988, 0.7071067811865475)\n",
      "Shingeki no Kyojin Movie 1: Guren no Yumiya\n",
      "(8989, 0.7071067811865475)\n",
      "Shingeki no Kyojin Movie 2: Jiyuu no Tsubasa\n",
      "(13349, 0.7071067811865475)\n",
      "Shingeki no Kyojin: Lost Girls\n",
      "(9353, 0.6804138174397717)\n",
      "Shingeki no Kyojin: Kuinaki Sentaku\n",
      "---\n"
     ]
    }
   ],
   "source": [
    "recommend('Shingeki no Kyojin') # (animes_id, similarity %), name\n",
    "print('---')"
   ]
  },
  {
   "cell_type": "code",
   "execution_count": 12,
   "id": "70ffd3df-a967-4c8c-9e03-f715c7877517",
   "metadata": {},
   "outputs": [
    {
     "name": "stdout",
     "output_type": "stream",
     "text": [
      "(7500, 0.6708203932499369)\n",
      "Kotonoha no Niwa\n",
      "(15056, 0.6000000000000001)\n",
      "Tenki no Ko\n",
      "(2560, 0.5976143046671969)\n",
      "Makasete Iruka!\n",
      "(232, 0.5720775535473555)\n",
      "Hoshi no Koe\n",
      "(1535, 0.565685424949238)\n",
      "Byousoku 5 Centimeter\n",
      "(7007, 0.565685424949238)\n",
      "Taisei Kensetsu CMs\n",
      "(14143, 0.565685424949238)\n",
      "Shikioriori\n",
      "(406, 0.5262348115842176)\n",
      "Kumo no Mukou, Yakusoku no Basho\n",
      "(4908, 0.5163977794943223)\n",
      "Ibarahime Mata wa Nemurihime\n",
      "---\n"
     ]
    }
   ],
   "source": [
    "recommend('Kimi no Na wa.') # Need to apply popularity factors to this model\\\n",
    "print('---')"
   ]
  },
  {
   "cell_type": "code",
   "execution_count": 13,
   "id": "cd212174-2d5f-45a0-83f5-3a3bf6ac2ad4",
   "metadata": {},
   "outputs": [],
   "source": [
    "import pickle\n",
    "pickle.dump(new, open('anime_list.pkl','wb'))\n",
    "pickle.dump(new, open('matrix.pkl','wb'))\n",
    "pickle.dump(similarity,open('similarity.pkl','wb'))"
   ]
  },
  {
   "cell_type": "code",
   "execution_count": null,
   "id": "642d1ca2-7e00-4cf9-8641-7678778ad6f9",
   "metadata": {},
   "outputs": [],
   "source": []
  }
 ],
 "metadata": {
  "kernelspec": {
   "display_name": "Python 3 (ipykernel)",
   "language": "python",
   "name": "python3"
  },
  "language_info": {
   "codemirror_mode": {
    "name": "ipython",
    "version": 3
   },
   "file_extension": ".py",
   "mimetype": "text/x-python",
   "name": "python",
   "nbconvert_exporter": "python",
   "pygments_lexer": "ipython3",
   "version": "3.8.0"
  }
 },
 "nbformat": 4,
 "nbformat_minor": 5
}
